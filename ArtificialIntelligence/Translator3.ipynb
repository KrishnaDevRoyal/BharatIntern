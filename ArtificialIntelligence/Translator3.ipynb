{
 "cells": [
  {
   "cell_type": "code",
   "execution_count": 3,
   "metadata": {},
   "outputs": [],
   "source": [
    "from googletrans import Translator"
   ]
  },
  {
   "cell_type": "code",
   "execution_count": 4,
   "metadata": {},
   "outputs": [],
   "source": [
    "def translate_text(text, source_lang, target_lang):\n",
    "    translator = Translator()\n",
    "    translated_text = translator.translate(text, src=source_lang, dest=target_lang)\n",
    "    return translated_text.text"
   ]
  },
  {
   "cell_type": "code",
   "execution_count": 5,
   "metadata": {},
   "outputs": [
    {
     "name": "stdout",
     "output_type": "stream",
     "text": [
      "Source Text (en): Hello, how are you?\n",
      "Translated Text (fr): Bonjour comment allez-vous?\n"
     ]
    }
   ],
   "source": [
    "# Test the translator function\n",
    "source_text = \"Hello, how are you?\"\n",
    "source_language = 'en'   # English\n",
    "target_language = 'fr'   # French\n",
    "\n",
    "translated_text = translate_text(source_text, source_language, target_language)\n",
    "\n",
    "# Display the translation\n",
    "print(f\"Source Text ({source_language}): {source_text}\")\n",
    "print(f\"Translated Text ({target_language}): {translated_text}\")"
   ]
  }
 ],
 "metadata": {
  "kernelspec": {
   "display_name": "Python 3",
   "language": "python",
   "name": "python3"
  },
  "language_info": {
   "codemirror_mode": {
    "name": "ipython",
    "version": 3
   },
   "file_extension": ".py",
   "mimetype": "text/x-python",
   "name": "python",
   "nbconvert_exporter": "python",
   "pygments_lexer": "ipython3",
   "version": "3.11.1"
  },
  "orig_nbformat": 4
 },
 "nbformat": 4,
 "nbformat_minor": 2
}
