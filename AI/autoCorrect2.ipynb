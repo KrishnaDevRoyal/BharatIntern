{
 "cells": [
  {
   "cell_type": "code",
   "execution_count": 1,
   "metadata": {},
   "outputs": [],
   "source": [
    "import difflib"
   ]
  },
  {
   "cell_type": "code",
   "execution_count": 2,
   "metadata": {},
   "outputs": [],
   "source": [
    "vocabulary = ['apple', 'banana', 'orange', 'grape', 'mango', 'pineapple', 'watermelon', 'strawberry']"
   ]
  },
  {
   "cell_type": "code",
   "execution_count": 3,
   "metadata": {},
   "outputs": [],
   "source": [
    "def auto_correct(word):\n",
    "    # Find the closest match in the vocabulary using the difflib library\n",
    "    closest_match = difflib.get_close_matches(word, vocabulary, n=1, cutoff=0.6)\n",
    "    \n",
    "    if closest_match:\n",
    "        return closest_match[0]\n",
    "    else:\n",
    "        return \"No suggestion found.\""
   ]
  },
  {
   "cell_type": "code",
   "execution_count": 4,
   "metadata": {},
   "outputs": [
    {
     "name": "stdout",
     "output_type": "stream",
     "text": [
      "Original Word: appl, Corrected Word: apple\n",
      "Original Word: manngo, Corrected Word: mango\n",
      "Original Word: bannna, Corrected Word: banana\n"
     ]
    }
   ],
   "source": [
    "# Test cases\n",
    "input_word_1 = 'appl'\n",
    "input_word_2 = 'manngo'\n",
    "input_word_3 = 'bannna'\n",
    "\n",
    "# Auto-correct the words\n",
    "corrected_word_1 = auto_correct(input_word_1)\n",
    "corrected_word_2 = auto_correct(input_word_2)\n",
    "corrected_word_3 = auto_correct(input_word_3)\n",
    "\n",
    "# Display the results\n",
    "print(f\"Original Word: {input_word_1}, Corrected Word: {corrected_word_1}\")\n",
    "print(f\"Original Word: {input_word_2}, Corrected Word: {corrected_word_2}\")\n",
    "print(f\"Original Word: {input_word_3}, Corrected Word: {corrected_word_3}\")"
   ]
  }
 ],
 "metadata": {
  "kernelspec": {
   "display_name": "Python 3",
   "language": "python",
   "name": "python3"
  },
  "language_info": {
   "codemirror_mode": {
    "name": "ipython",
    "version": 3
   },
   "file_extension": ".py",
   "mimetype": "text/x-python",
   "name": "python",
   "nbconvert_exporter": "python",
   "pygments_lexer": "ipython3",
   "version": "3.11.1"
  },
  "orig_nbformat": 4
 },
 "nbformat": 4,
 "nbformat_minor": 2
}
